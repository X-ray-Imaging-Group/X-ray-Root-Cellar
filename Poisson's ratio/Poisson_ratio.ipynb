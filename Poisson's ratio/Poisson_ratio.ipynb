{
 "cells": [
  {
   "cell_type": "markdown",
   "metadata": {
    "colab_type": "text",
    "id": "view-in-github"
   },
   "source": [
    "<a href=\"https://colab.research.google.com/github/darwinqii/X-ray-Root-Cellar/blob/main/Poisson's%20ratio/Poisson_ratio.ipynb\" target=\"_parent\"><img src=\"https://colab.research.google.com/assets/colab-badge.svg\" alt=\"Open In Colab\"/></a>"
   ]
  },
  {
   "cell_type": "markdown",
   "metadata": {},
   "source": [
    "<div>\n",
    "<img src=\"legend.png\" width=\"450\"/>\n",
    "</div>"
   ]
  },
  {
   "cell_type": "code",
   "execution_count": 3,
   "metadata": {
    "cellView": "form",
    "colab": {
     "base_uri": "https://localhost:8080/"
    },
    "id": "f73bEITjvWEd",
    "outputId": "3ee51e64-07ac-402b-9024-34966aca297c"
   },
   "outputs": [
    {
     "name": "stdout",
     "output_type": "stream",
     "text": [
      "The Poisson's ratio is \n",
      "0.2123\n"
     ]
    }
   ],
   "source": [
    "#@title <-- Click this button to run.\n",
    "import numpy as np\n",
    "import pandas as pd\n",
    "\n",
    "def material_compliance(material, s):\n",
    "    data = {'material': ['Si', 'Ge', 'C'],\n",
    "            'lattice spacing (m)': [0.00000000054309402, 0.000000000565735, 0.000000000356679],\n",
    "            's11': [0.768, 0.964, 0.0949],\n",
    "            's12': [-0.214, -0.26, -0.00978],\n",
    "            's44': [1.26, 1.49, 0.17]}\n",
    "    data = pd.DataFrame(data)\n",
    "    data = data.set_index('material')\n",
    "    s = data.loc[material, s]\n",
    "    return s\n",
    "\n",
    "\n",
    "def normalize_vector(v):\n",
    "    v_sum = np.sqrt(v[0] ** 2 + v[1] ** 2 + v[2] ** 2)\n",
    "    return np.array([v[0] / v_sum, v[1] / v_sum, v[2] / v_sum])\n",
    "\n",
    "\n",
    "def cross_vector(v1, v2):\n",
    "    v1 = np.array(v1)\n",
    "    v2 = np.array(v2)\n",
    "    return np.cross(v1, v2)\n",
    "\n",
    "\n",
    "def calculator(material, reflection_hkl, bending_hkl, chi=0):\n",
    "    \"\"\"\n",
    "\n",
    "    Parameters\n",
    "    ----------\n",
    "    material: 'Si', 'Ge', 'C'\n",
    "    reflection_hkl: [h, k, l]\n",
    "    bending_hkl: [h, k, l]\n",
    "    chi: Degree.  Asymmetric angle from reflection plane to surface normal (counterclockwise positive)\n",
    "\n",
    "    Returns\n",
    "    -------\n",
    "    Poisson's ratio on ZX direction.\n",
    "    \"\"\"\n",
    "    chi = np.radians(chi)\n",
    "    # ZR = dict(zip(['h','k','l'], reflection_hkl))\n",
    "    # Y = dict(zip(['h','k','l'], bending_hkl))\n",
    "    ZR = np.array(reflection_hkl)\n",
    "    Y = np.array(bending_hkl)\n",
    "    XR = np.cross(Y, ZR)\n",
    "\n",
    "    XRn = normalize_vector(XR)\n",
    "    # Yn = normalize_vector(Y)\n",
    "    ZRn = normalize_vector(ZR)\n",
    "\n",
    "    X = XRn * np.cos(chi) - ZRn * np.sin(chi)\n",
    "    Z = np.cross(X, Y)\n",
    "\n",
    "    Xn = normalize_vector(X)\n",
    "    Yn = normalize_vector(Y)\n",
    "    Zn = normalize_vector(Z)\n",
    "\n",
    "    sc11 = material_compliance(material, 's11')\n",
    "    sc12 = material_compliance(material, 's12')\n",
    "    sc44 = material_compliance(material, 's44')\n",
    "    sc = sc11 - sc12 - 0.5 * sc44\n",
    "\n",
    "    s13 = sc12 + sc * (Xn[0] ** 2 * Zn[0] ** 2 + Xn[1] ** 2 * Zn[1] ** 2 + Xn[2] ** 2 * Zn[2] ** 2)\n",
    "    s33 = sc11 + sc * (Zn[0] ** 4 + Zn[1] ** 4 + Zn[2] ** 4 - 1)\n",
    "    sp31 = s13 / s33\n",
    "\n",
    "    c_factor = 1.0\n",
    "    nu = -sp31 * c_factor  # (\\nu ZX)\n",
    "    return nu\n",
    "\n",
    "#@markdown Material\n",
    "material = 'Si' #@param [\"Si\", \"Ge\", \"C\"]\n",
    "\n",
    "#@markdown Reflection\n",
    "h_reflection =  1#@param {type:\"number\"}\n",
    "k_reflection = 1 #@param {type:\"number\"}\n",
    "l_reflection =  -1#@param {type:\"number\"}\n",
    "\n",
    "reflection_hkl=[h_reflection, k_reflection, l_reflection]\n",
    "\n",
    "#@markdown Bending axis (perpendicular to Reflection)\n",
    "h_bending = 1 #@param {type:\"number\"}\n",
    "k_bending =  -1#@param {type:\"number\"}\n",
    "l_bending = 0 #@param {type:\"number\"}\n",
    "\n",
    "bending_hkl=[h_bending, k_bending, l_bending]\n",
    "\n",
    "#@markdown Asymmetry angle (degree)\n",
    "chi =  5#@param {type:\"number\"}\n",
    "\n",
    "nu = calculator(material, reflection_hkl, bending_hkl, chi=chi)\n",
    "print(\"The Poisson's ratio is \\n{:.4f}\".format(nu))\n"
   ]
  },
  {
   "cell_type": "markdown",
   "metadata": {},
   "source": [
    "## Useful tools"
   ]
  },
  {
   "cell_type": "code",
   "execution_count": 9,
   "metadata": {},
   "outputs": [
    {
     "name": "stdout",
     "output_type": "stream",
     "text": [
      "The bending axis is [ 6 -6  0]\n"
     ]
    }
   ],
   "source": [
    "#@title If the bending axis is unknown, but the surface is known. Run this cell to calculate the bending axis first.\n",
    "\n",
    "import numpy as np\n",
    "\n",
    "def cross_vector(v1, v2):\n",
    "    v1 = np.array(v1)\n",
    "    v2 = np.array(v2)\n",
    "    return np.cross(v1, v2)\n",
    "\n",
    "#@markdown Surface\n",
    "h_surface = 2 #@param {type:\"number\"}\n",
    "k_surface = 2 #@param {type:\"number\"}\n",
    "l_surface = 4 #@param {type:\"number\"}\n",
    "surface_hkl=[h_surface, k_surface, l_surface]\n",
    "\n",
    "\n",
    "\n",
    "#@markdown Reflection\n",
    "h_reflection = 1 #@param {type:\"number\"}\n",
    "k_reflection = 1 #@param {type:\"number\"}\n",
    "l_reflection = -1 #@param {type:\"number\"}\n",
    "reflection_hkl=[h_reflection, k_reflection, l_reflection]\n",
    "\n",
    "bending = cross_vector(reflection_hkl,surface_hkl)\n",
    "print(\"The bending axis is {}\".format(bending))"
   ]
  }
 ],
 "metadata": {
  "colab": {
   "authorship_tag": "ABX9TyNk4nvbk5REZgeslRHnFzxW",
   "collapsed_sections": [],
   "include_colab_link": true,
   "name": "Poisson ratio.ipynb",
   "provenance": []
  },
  "kernelspec": {
   "display_name": "Python 3",
   "language": "python",
   "name": "python3"
  },
  "language_info": {
   "codemirror_mode": {
    "name": "ipython",
    "version": 3
   },
   "file_extension": ".py",
   "mimetype": "text/x-python",
   "name": "python",
   "nbconvert_exporter": "python",
   "pygments_lexer": "ipython3",
   "version": "3.7.6"
  }
 },
 "nbformat": 4,
 "nbformat_minor": 4
}
