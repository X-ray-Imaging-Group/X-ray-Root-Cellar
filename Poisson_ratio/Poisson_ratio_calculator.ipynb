{
  "nbformat": 4,
  "nbformat_minor": 0,
  "metadata": {
    "colab": {
      "name": "Poisson ratio calculator.ipynb",
      "provenance": [],
      "collapsed_sections": [
        "ZTGhcSoqTywZ",
        "i9zzcqFbqudn"
      ]
    },
    "kernelspec": {
      "display_name": "Python 3",
      "language": "python",
      "name": "python3"
    },
    "language_info": {
      "codemirror_mode": {
        "name": "ipython",
        "version": 3
      },
      "file_extension": ".py",
      "mimetype": "text/x-python",
      "name": "python",
      "nbconvert_exporter": "python",
      "pygments_lexer": "ipython3",
      "version": "3.7.6"
    }
  },
  "cells": [
    {
      "source": [
        "[![Open In Colab](https://colab.research.google.com/assets/colab-badge.svg)](https://colab.research.google.com/github/X-ray-Imaging-Group/X-ray-Root-Cellar/blob/main/Poisson_ratio/Poisson_ratio_calculator.ipynb)"
      ],
      "cell_type": "markdown",
      "metadata": {}
    },
    {
      "cell_type": "markdown",
      "metadata": {
        "id": "-AEZyOTCTywS"
      },
      "source": [
        "<div>\n",
        "<img src=\"https://github.com/darwinqii/X-ray-Root-Cellar/blob/main/Poisson_ratio/Resources/legend.png?raw=1\" width=\"450\"/>\n",
        "</div>"
      ]
    },
    {
      "cell_type": "code",
      "metadata": {
        "colab": {
          "base_uri": "https://localhost:8080/"
        },
        "id": "f73bEITjvWEd",
        "cellView": "form",
        "outputId": "3ee51e64-07ac-402b-9024-34966aca297c"
      },
      "source": [
        "#@title <-- Click this button to run.\n",
        "import numpy as np\n",
        "import pandas as pd\n",
        "\n",
        "\n",
        "def material_compliance(material, s):\n",
        "    data = {'material': ['Si', 'Ge', 'C'],\n",
        "            'lattice spacing (m)': [0.00000000054309402, 0.000000000565735, 0.000000000356679],\n",
        "            's11': [0.768, 0.964, 0.0949],\n",
        "            's12': [-0.214, -0.26, -0.00978],\n",
        "            's44': [1.26, 1.49, 0.17]}\n",
        "    data = pd.DataFrame(data)\n",
        "    data = data.set_index('material')\n",
        "    s = data.loc[material, s]\n",
        "    return s\n",
        "\n",
        "\n",
        "def normalize_vector(v):\n",
        "    v_sum = np.sqrt(v[0] ** 2 + v[1] ** 2 + v[2] ** 2)\n",
        "    return np.array([v[0] / v_sum, v[1] / v_sum, v[2] / v_sum])\n",
        "\n",
        "\n",
        "def cross_vector(v1, v2):\n",
        "    v1 = np.array(v1)\n",
        "    v2 = np.array(v2)\n",
        "    return np.cross(v1, v2)\n",
        "\n",
        "\n",
        "def calculator(material, reflection_hkl, bending_hkl, chi=0):\n",
        "    \"\"\"\n",
        "    References: Wortman, J. J., & Evans, R. A. (1965). Young’s modulus, shear modulus, and poisson’s ratio in silicon\n",
        "    and germanium. Journal of Applied Physics, 36(1), 153–156. https://doi.org/10.1063/1.1713863\n",
        "\n",
        "    Parameters\n",
        "    ----------\n",
        "    material: 'Si', 'Ge', 'C'\n",
        "    reflection_hkl: [h, k, l]\n",
        "    bending_hkl: [h, k, l]\n",
        "    chi: Degree.  Asymmetric angle from reflection plane to surface normal (counterclockwise positive)\n",
        "\n",
        "    Returns\n",
        "    -------\n",
        "    Poisson's ratio on ZX direction.\n",
        "    \"\"\"\n",
        "    chi = np.radians(chi)\n",
        "    # XR, YR, ZR for Reflection related dimensions\n",
        "    ZR = np.array(reflection_hkl)\n",
        "    Y = np.array(bending_hkl)\n",
        "    XR = np.cross(Y, ZR)\n",
        "\n",
        "    # **n for NORMALIZED vector\n",
        "    XRn = normalize_vector(XR)\n",
        "    # Yn = normalize_vector(Y)\n",
        "    ZRn = normalize_vector(ZR)\n",
        "\n",
        "    # X, Y, Z for crystal orientation related dimensions\n",
        "    X = XRn * np.cos(chi) - ZRn * np.sin(chi)\n",
        "    Z = np.cross(X, Y)\n",
        "\n",
        "    # *n for NORMALIZED vector\n",
        "    Xn = normalize_vector(X)\n",
        "    Yn = normalize_vector(Y)\n",
        "    Zn = normalize_vector(Z)\n",
        "\n",
        "    # sc** for Compliance coefficient\n",
        "    sc11 = material_compliance(material, 's11')\n",
        "    sc12 = material_compliance(material, 's12')\n",
        "    sc44 = material_compliance(material, 's44')\n",
        "    sc = sc11 - sc12 - 0.5 * sc44\n",
        "\n",
        "    s13 = sc12 + sc * (Xn[0] ** 2 * Zn[0] ** 2 + Xn[1] ** 2 * Zn[1] ** 2 + Xn[2] ** 2 * Zn[2] ** 2)\n",
        "    s33 = sc11 + sc * (Zn[0] ** 4 + Zn[1] ** 4 + Zn[2] ** 4 - 1)\n",
        "    sp31 = s13 / s33\n",
        "\n",
        "    c_factor = 1.0\n",
        "    nu = -sp31 * c_factor  # (\\nu ZX)\n",
        "    return nu\n",
        "\n",
        "\n",
        "#@markdown Material\n",
        "material = 'Si' #@param [\"Si\", \"Ge\", \"C\"]\n",
        "\n",
        "#@markdown Reflection\n",
        "h_reflection =  1#@param {type:\"number\"}\n",
        "k_reflection = 1 #@param {type:\"number\"}\n",
        "l_reflection =  -1#@param {type:\"number\"}\n",
        "\n",
        "reflection_hkl=[h_reflection, k_reflection, l_reflection]\n",
        "\n",
        "#@markdown Bending axis (perpendicular to Reflection)\n",
        "h_bending = 1 #@param {type:\"number\"}\n",
        "k_bending =  -1#@param {type:\"number\"}\n",
        "l_bending = 0 #@param {type:\"number\"}\n",
        "\n",
        "bending_hkl=[h_bending, k_bending, l_bending]\n",
        "\n",
        "#@markdown Asymmetry angle (degree)\n",
        "chi =  5#@param {type:\"number\"}\n",
        "\n",
        "nu = calculator(material, reflection_hkl, bending_hkl, chi=chi)\n",
        "print(\"The Poisson's ratio is \\n{:.4f}\".format(nu))\n"
      ],
      "execution_count": null,
      "outputs": [
        {
          "output_type": "stream",
          "text": [
            "The Poisson's ratio is \n",
            "0.2123\n"
          ],
          "name": "stdout"
        }
      ]
    },
    {
      "cell_type": "markdown",
      "metadata": {
        "id": "ZTGhcSoqTywZ"
      },
      "source": [
        "## Useful tools"
      ]
    },
    {
      "cell_type": "code",
      "metadata": {
        "id": "FYyrPhozTywa",
        "cellView": "form",
        "outputId": "d055a1d3-9809-46a0-fdf9-e8f3c032242e"
      },
      "source": [
        "#@title Calculate the Bending axis, if the Surface and Reflection are known. \n",
        "\n",
        "import numpy as np\n",
        "\n",
        "def cross_vector(v1, v2):\n",
        "    v1 = np.array(v1)\n",
        "    v2 = np.array(v2)\n",
        "    return np.cross(v1, v2)\n",
        "\n",
        "#@markdown Surface\n",
        "h_surface = 2 #@param {type:\"number\"}\n",
        "k_surface = 2 #@param {type:\"number\"}\n",
        "l_surface = 4 #@param {type:\"number\"}\n",
        "surface_hkl=[h_surface, k_surface, l_surface]\n",
        "\n",
        "\n",
        "\n",
        "#@markdown Reflection\n",
        "h_reflection = 1 #@param {type:\"number\"}\n",
        "k_reflection = 1 #@param {type:\"number\"}\n",
        "l_reflection = -1 #@param {type:\"number\"}\n",
        "reflection_hkl=[h_reflection, k_reflection, l_reflection]\n",
        "\n",
        "bending = cross_vector(reflection_hkl,surface_hkl)\n",
        "print(\"The bending axis is {}\".format(bending))"
      ],
      "execution_count": null,
      "outputs": [
        {
          "output_type": "stream",
          "text": [
            "The bending axis is [ 6 -6  0]\n"
          ],
          "name": "stdout"
        }
      ]
    },
    {
      "cell_type": "markdown",
      "metadata": {
        "id": "i9zzcqFbqudn"
      },
      "source": [
        "## Relation between Poisson's ratio $\\nu$ and asymmetry angle $\\chi$. "
      ]
    },
    {
      "cell_type": "code",
      "metadata": {
        "colab": {
          "base_uri": "https://localhost:8080/",
          "height": 369
        },
        "cellView": "form",
        "id": "TDuJLifkrlAw",
        "outputId": "8e4072b2-7d5e-4269-af29-92e155ca992c"
      },
      "source": [
        "%matplotlib inline\r\n",
        "import numpy as np\r\n",
        "import pandas as pd\r\n",
        "import matplotlib.pyplot as plt\r\n",
        "plt.style.use('seaborn') # ['Solarize_Light2', '_classic_test_patch', 'bmh', 'classic', 'dark_background', 'fast', 'fivethirtyeight', 'ggplot', 'grayscale', 'seaborn', 'seaborn-bright', 'seaborn-colorblind', 'seaborn-dark', 'seaborn-dark-palette', 'seaborn-darkgrid', 'seaborn-deep', 'seaborn-muted', 'seaborn-notebook', 'seaborn-paper', 'seaborn-pastel', 'seaborn-poster', 'seaborn-talk', 'seaborn-ticks', 'seaborn-white', 'seaborn-whitegrid', 'tableau-colorblind10']\r\n",
        "\r\n",
        "\r\n",
        "def material_compliance(material, s):\r\n",
        "    data = {'material': ['Si', 'Ge', 'C'],\r\n",
        "            'lattice spacing (m)': [0.00000000054309402, 0.000000000565735, 0.000000000356679],\r\n",
        "            's11': [0.768, 0.964, 0.0949],\r\n",
        "            's12': [-0.214, -0.26, -0.00978],\r\n",
        "            's44': [1.26, 1.49, 0.17]}\r\n",
        "    data = pd.DataFrame(data)\r\n",
        "    data = data.set_index('material')\r\n",
        "    s = data.loc[material, s]\r\n",
        "    return s\r\n",
        "\r\n",
        "\r\n",
        "def normalize_vector(v):\r\n",
        "    v_sum = np.sqrt(v[0] ** 2 + v[1] ** 2 + v[2] ** 2)\r\n",
        "    return np.array([v[0] / v_sum, v[1] / v_sum, v[2] / v_sum])\r\n",
        "\r\n",
        "\r\n",
        "def cross_vector(v1, v2):\r\n",
        "    v1 = np.array(v1)\r\n",
        "    v2 = np.array(v2)\r\n",
        "    return np.cross(v1, v2)\r\n",
        "\r\n",
        "\r\n",
        "def calculator(material, reflection_hkl, bending_hkl, chi=0):\r\n",
        "    \"\"\"\r\n",
        "    References: Wortman, J. J., & Evans, R. A. (1965). Young’s modulus, shear modulus, and poisson’s ratio in silicon\r\n",
        "    and germanium. Journal of Applied Physics, 36(1), 153–156. https://doi.org/10.1063/1.1713863\r\n",
        "\r\n",
        "    Parameters\r\n",
        "    ----------\r\n",
        "    material: 'Si', 'Ge', 'C'\r\n",
        "    reflection_hkl: [h, k, l]\r\n",
        "    bending_hkl: [h, k, l]\r\n",
        "    chi: Degree.  Asymmetric angle from reflection plane to surface normal (counterclockwise positive)\r\n",
        "\r\n",
        "    Returns\r\n",
        "    -------\r\n",
        "    Poisson's ratio on ZX direction.\r\n",
        "    \"\"\"\r\n",
        "    chi = np.radians(chi)\r\n",
        "    # XR, YR, ZR for Reflection related dimensions\r\n",
        "    ZR = np.array(reflection_hkl)\r\n",
        "    Y = np.array(bending_hkl)\r\n",
        "    XR = np.cross(Y, ZR)\r\n",
        "\r\n",
        "    # **n for NORMALIZED vector\r\n",
        "    XRn = normalize_vector(XR)\r\n",
        "    # Yn = normalize_vector(Y)\r\n",
        "    ZRn = normalize_vector(ZR)\r\n",
        "\r\n",
        "    # X, Y, Z for crystal orientation related dimensions\r\n",
        "    X = XRn * np.cos(chi) - ZRn * np.sin(chi)\r\n",
        "    Z = np.cross(X, Y)\r\n",
        "\r\n",
        "    # *n for NORMALIZED vector\r\n",
        "    Xn = normalize_vector(X)\r\n",
        "    Yn = normalize_vector(Y)\r\n",
        "    Zn = normalize_vector(Z)\r\n",
        "\r\n",
        "    # sc** for Compliance coefficient\r\n",
        "    sc11 = material_compliance(material, 's11')\r\n",
        "    sc12 = material_compliance(material, 's12')\r\n",
        "    sc44 = material_compliance(material, 's44')\r\n",
        "    sc = sc11 - sc12 - 0.5 * sc44\r\n",
        "\r\n",
        "    s13 = sc12 + sc * (Xn[0] ** 2 * Zn[0] ** 2 + Xn[1] ** 2 * Zn[1] ** 2 + Xn[2] ** 2 * Zn[2] ** 2)\r\n",
        "    s33 = sc11 + sc * (Zn[0] ** 4 + Zn[1] ** 4 + Zn[2] ** 4 - 1)\r\n",
        "    sp31 = s13 / s33\r\n",
        "\r\n",
        "    c_factor = 1.0\r\n",
        "    nu = -sp31 * c_factor  # (\\nu ZX)\r\n",
        "    return nu\r\n",
        "\r\n",
        "\r\n",
        "#@markdown Material\r\n",
        "material = 'Si' #@param [\"Si\", \"Ge\", \"C\"]\r\n",
        "\r\n",
        "#@markdown Reflection\r\n",
        "h_reflection =  1#@param {type:\"number\"}\r\n",
        "k_reflection = 1 #@param {type:\"number\"}\r\n",
        "l_reflection =  -1#@param {type:\"number\"}\r\n",
        "\r\n",
        "reflection_hkl=[h_reflection, k_reflection, l_reflection]\r\n",
        "\r\n",
        "#@markdown Bending axis (perpendicular to Reflection)\r\n",
        "h_bending = 1 #@param {type:\"number\"}\r\n",
        "k_bending =  -1#@param {type:\"number\"}\r\n",
        "l_bending = 0 #@param {type:\"number\"}\r\n",
        "\r\n",
        "bending_hkl=[h_bending, k_bending, l_bending]\r\n",
        "\r\n",
        "#@markdown Asymmetry angle range\r\n",
        "chi_1 = -10 #@param {type:\"number\"}\r\n",
        "chi_2 = 10 #@param {type:\"number\"}\r\n",
        "interval = 0.01 #@param {type:\"number\"}\r\n",
        "chis=  np.arange(chi_1, chi_2, interval) \r\n",
        "\r\n",
        "nus = np.array([calculator(material, reflection_hkl, bending_hkl, chi=chi) for chi in chis])\r\n",
        "\r\n",
        "plt.plot(chis, nus)\r\n",
        "fs=15\r\n",
        "plt.xlabel('Asymmetry angle, $\\chi$ (degree)', fontsize=fs)\r\n",
        "plt.ylabel(r\"Poisson's ratio, $\\nu$ \", fontsize=fs);\r\n",
        "\r\n",
        "\r\n",
        "\r\n"
      ],
      "execution_count": 19,
      "outputs": [
        {
          "output_type": "display_data",
          "data": {
            "image/png": "[encoded data removed]",
            "text/plain": [
              "<Figure size 576x396 with 1 Axes>"
            ]
          },
          "metadata": {
            "tags": []
          }
        }
      ]
    }
  ]
}